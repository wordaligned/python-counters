{
 "cells": [
  {
   "cell_type": "markdown",
   "metadata": {},
   "source": [
    "# Is it a Dict or is it a Set? No, it's a ...\n",
    "\n",
    "Let's suppose I have a pile of change. Something like this."
   ]
  },
  {
   "cell_type": "markdown",
   "metadata": {},
   "source": [
    "![Pile of coins](images/coin-pile.jpg)"
   ]
  },
  {
   "cell_type": "markdown",
   "metadata": {},
   "source": [
    "The lack of organisation makes it hard to see what's in front of us. Some questions which aren't immediately answerable include:\n",
    "\n",
    "* have I got enough money to watch [Mary Poppins Returns](https://www.imdb.com/title/tt5028340/)?\n",
    "* ... and buy some popcorn?\n",
    "* have I got a pound to use as a shopping trolley token?\n",
    "* have I got the right change for the parking meter?\n",
    "* am I richer than you?\n",
    "* if you and I pool our money how much have we got?\n",
    "* how many coins are there?\n",
    "* which denomination appears most often?\n",
    "* ... etc\n",
    "\n",
    "Coins are only available in a small number of denominations, and there are *lots* of coins. It follows that there's a lot of repetition. We can start to answer our questions by sorting by value, like this."
   ]
  },
  {
   "cell_type": "markdown",
   "metadata": {},
   "source": [
    "![Sorting the pile](images/coin-sorting.jpg)"
   ]
  },
  {
   "cell_type": "markdown",
   "metadata": {},
   "source": [
    "At this point it became clear I'd managed to mix in some Canadian currency, no doubt a result of my son's school trip a couple of years ago. Oh, and some European coins too."
   ]
  },
  {
   "cell_type": "markdown",
   "metadata": {},
   "source": [
    "![Exceptions](images/coin-exceptions.jpg)"
   ]
  },
  {
   "cell_type": "markdown",
   "metadata": {},
   "source": [
    "Finally, we're done."
   ]
  },
  {
   "cell_type": "markdown",
   "metadata": {},
   "source": [
    "![Sorted](images/coin-sorted.jpg)"
   ]
  },
  {
   "cell_type": "markdown",
   "metadata": {},
   "source": [
    "As you can see, the most common denomination -- just -- is the one pence piece, of which there are 90. The second most common is the five pence, of which there are 85.\n",
    "\n",
    "Let's use a computer to help us organise the data. Suppose the original unsorted pile is represented as a text file `coins.txt`, where each line holds a single coin."
   ]
  },
  {
   "cell_type": "code",
   "execution_count": 1,
   "metadata": {},
   "outputs": [
    {
     "name": "stdout",
     "output_type": "stream",
     "text": [
      "5\n",
      "1\n",
      "1\n",
      "1\n",
      "1\n",
      "5\n",
      "1\n",
      "5\n",
      "1\n",
      "1\n",
      "--- \n",
      "1\n",
      "2\n",
      "2\n",
      "1\n",
      "5\n",
      "5\n",
      "5\n",
      "1\n",
      "1\n",
      "1\n",
      "--- \n",
      "252 coins.txt\n"
     ]
    }
   ],
   "source": [
    "! head coins.txt && echo --- && tail coins.txt && echo --- && wc -l coins.txt"
   ]
  },
  {
   "cell_type": "markdown",
   "metadata": {},
   "source": [
    "The Unix shell gives us tools to organise the pile of coins. `Sort` piped to `uniq` gives us a tally of how many coins there are of each denomination."
   ]
  },
  {
   "cell_type": "code",
   "execution_count": 2,
   "metadata": {},
   "outputs": [
    {
     "name": "stdout",
     "output_type": "stream",
     "text": [
      "     90 1\n",
      "     13 10\n",
      "      8 100\n",
      "     35 2\n",
      "     18 20\n",
      "     85 5\n",
      "      3 50\n"
     ]
    }
   ],
   "source": [
    "! sort coins.txt | uniq -c"
   ]
  },
  {
   "cell_type": "markdown",
   "metadata": {},
   "source": [
    "We can apply `sort` again to order the results by frequency ..."
   ]
  },
  {
   "cell_type": "code",
   "execution_count": 31,
   "metadata": {},
   "outputs": [
    {
     "name": "stdout",
     "output_type": "stream",
     "text": [
      "     90 1\n",
      "     85 5\n",
      "     35 2\n",
      "     18 20\n",
      "     13 10\n",
      "      8 100\n",
      "      3 50\n"
     ]
    }
   ],
   "source": [
    "! sort coins.txt | uniq -c | sort -rn"
   ]
  },
  {
   "cell_type": "markdown",
   "metadata": {},
   "source": [
    "... or indeed by denomination."
   ]
  },
  {
   "cell_type": "code",
   "execution_count": 4,
   "metadata": {},
   "outputs": [
    {
     "name": "stdout",
     "output_type": "stream",
     "text": [
      "     90 1\n",
      "     35 2\n",
      "     85 5\n",
      "     13 10\n",
      "     18 20\n",
      "      3 50\n",
      "      8 100\n"
     ]
    }
   ],
   "source": [
    "! sort coins.txt | uniq -c | sort -n -k 2"
   ]
  },
  {
   "cell_type": "markdown",
   "metadata": {},
   "source": [
    "In Python, we don't need to sort and group. Since coin denominations are hashable, we can create a `dict` keyed by denomination with the counts as values."
   ]
  },
  {
   "cell_type": "code",
   "execution_count": 5,
   "metadata": {},
   "outputs": [
    {
     "data": {
      "text/plain": [
       "{5: 85, 1: 90, 2: 35, 10: 13, 50: 3, 20: 18, 100: 8}"
      ]
     },
     "execution_count": 5,
     "metadata": {},
     "output_type": "execute_result"
    }
   ],
   "source": [
    "coin_counts = {}\n",
    "coins = [int(coin) for coin in open(\"coins.txt\")]\n",
    "\n",
    "for coin in coins:\n",
    "    coin_counts[coin] = coin_counts.get(coin, 0) + 1\n",
    "\n",
    "coin_counts"
   ]
  },
  {
   "cell_type": "markdown",
   "metadata": {},
   "source": [
    "Here, `dict.get()` returns a user supplied default -- `0` in this case -- when the key is missing. This pattern is so common there's a special type of dict to do the job. `Collections.defaultdict` accepts a callable on initialisation, which will then be called to set a value for missing keys. So, using `int` as that callable, and remembering `int() == 0` is `True`, we write:"
   ]
  },
  {
   "cell_type": "code",
   "execution_count": 6,
   "metadata": {},
   "outputs": [
    {
     "data": {
      "text/plain": [
       "defaultdict(int, {5: 85, 1: 90, 2: 35, 10: 13, 50: 3, 20: 18, 100: 8})"
      ]
     },
     "execution_count": 6,
     "metadata": {},
     "output_type": "execute_result"
    }
   ],
   "source": [
    "import collections\n",
    "\n",
    "coin_counts = collections.defaultdict(int)\n",
    "for coin in coins:\n",
    "    coin_counts[coin] += 1\n",
    "\n",
    "coin_counts"
   ]
  },
  {
   "cell_type": "markdown",
   "metadata": {},
   "source": [
    "By the way, the Unix sort-and-group approach would also work. It's not idiomatic Python, but it's a useful technique to know about. The `itertools` module provides the grouping function."
   ]
  },
  {
   "cell_type": "code",
   "execution_count": 7,
   "metadata": {},
   "outputs": [
    {
     "data": {
      "text/plain": [
       "{1: 90, 2: 35, 5: 85, 10: 13, 20: 18, 50: 3, 100: 8}"
      ]
     },
     "execution_count": 7,
     "metadata": {},
     "output_type": "execute_result"
    }
   ],
   "source": [
    "import itertools\n",
    "\n",
    "{coin: len(list(group)) for coin, group in itertools.groupby(sorted(coins))}"
   ]
  },
  {
   "cell_type": "markdown",
   "metadata": {},
   "source": [
    "![Coin pile](images/coin-pile.jpg)"
   ]
  },
  {
   "cell_type": "markdown",
   "metadata": {},
   "source": [
    "I said `itertools.groupby` wasn't idiomatic. The modern idiom isn't `defaultdict` either. When we looked in `collections` for help we should have looked harder!\n",
    "\n",
    "There's [collections.Counter](https://docs.python.org/3/library/collections.html#collections.Counter), which does exactly what we want."
   ]
  },
  {
   "cell_type": "code",
   "execution_count": 8,
   "metadata": {},
   "outputs": [
    {
     "data": {
      "text/plain": [
       "{1: 90, 2: 35, 5: 85, 10: 13, 20: 18, 50: 3, 100: 8}"
      ]
     },
     "execution_count": 8,
     "metadata": {},
     "output_type": "execute_result"
    }
   ],
   "source": [
    "dosh = collections.Counter(coins)\n",
    "_"
   ]
  },
  {
   "cell_type": "code",
   "execution_count": 9,
   "metadata": {},
   "outputs": [
    {
     "data": {
      "text/plain": [
       "True"
      ]
     },
     "execution_count": 9,
     "metadata": {},
     "output_type": "execute_result"
    }
   ],
   "source": [
    "# Have we a pound for the shopping trolley?\n",
    "100 in dosh"
   ]
  },
  {
   "cell_type": "code",
   "execution_count": 10,
   "metadata": {},
   "outputs": [
    {
     "data": {
      "text/plain": [
       "True"
      ]
     },
     "execution_count": 10,
     "metadata": {},
     "output_type": "execute_result"
    }
   ],
   "source": [
    "# Have we enough money to see the film?\n",
    "total = sum(v * n for v, n in dosh.items())\n",
    "assert total == sum(coins)\n",
    "total >= 975"
   ]
  },
  {
   "cell_type": "code",
   "execution_count": 11,
   "metadata": {},
   "outputs": [
    {
     "data": {
      "text/plain": [
       "True"
      ]
     },
     "execution_count": 11,
     "metadata": {},
     "output_type": "execute_result"
    }
   ],
   "source": [
    "# And a bucket of popcorn too?\n",
    "total >= 975 + 495"
   ]
  },
  {
   "cell_type": "code",
   "execution_count": 12,
   "metadata": {},
   "outputs": [
    {
     "data": {
      "text/plain": [
       "'I have 252 coins of 7 denominations'"
      ]
     },
     "execution_count": 12,
     "metadata": {},
     "output_type": "execute_result"
    }
   ],
   "source": [
    "# How many coins of how many denominations?\n",
    "f\"I have {sum(dosh.values())} coins of {len(dosh)} denominations\""
   ]
  },
  {
   "cell_type": "code",
   "execution_count": 13,
   "metadata": {},
   "outputs": [
    {
     "data": {
      "text/plain": [
       "[(1, 90), (5, 85), (2, 35), (20, 18), (10, 13), (100, 8), (50, 3)]"
      ]
     },
     "execution_count": 13,
     "metadata": {},
     "output_type": "execute_result"
    }
   ],
   "source": [
    "# Ordered by frequency\n",
    "dosh.most_common()"
   ]
  },
  {
   "cell_type": "code",
   "execution_count": 14,
   "metadata": {},
   "outputs": [
    {
     "data": {
      "text/plain": [
       "(True,\n",
       " <function Counter.keys>,\n",
       " <function Counter.values>,\n",
       " <function Counter.items>)"
      ]
     },
     "execution_count": 14,
     "metadata": {},
     "output_type": "execute_result"
    }
   ],
   "source": [
    "# Counter subclasses dict\n",
    "isinstance(dosh, dict), dosh.keys, dosh.values, dosh.items"
   ]
  },
  {
   "cell_type": "code",
   "execution_count": 15,
   "metadata": {},
   "outputs": [
    {
     "data": {
      "text/plain": [
       "Counter({5: 85, 1: 156, 2: 35, 10: 13, 50: 3, 20: 18, 100: 8, 200: 3})"
      ]
     },
     "execution_count": 15,
     "metadata": {},
     "output_type": "execute_result"
    }
   ],
   "source": [
    "# Note: Counter.update doesn't overwrite like dict.update does - it rolls in the update\n",
    "dosh.update({1:66, 200:3})\n",
    "dosh"
   ]
  },
  {
   "cell_type": "code",
   "execution_count": 16,
   "metadata": {},
   "outputs": [
    {
     "name": "stdout",
     "output_type": "stream",
     "text": [
      "Help on method fromkeys in module collections:\n",
      "\n",
      "fromkeys(iterable, v=None) method of builtins.type instance\n",
      "    Create a new dictionary with keys from iterable and values set to value.\n",
      "\n"
     ]
    }
   ],
   "source": [
    "# Note: Counter.fromkeys is not implemented ... despite what the docs say!\n",
    "help(collections.Counter.fromkeys)"
   ]
  },
  {
   "cell_type": "code",
   "execution_count": 17,
   "metadata": {},
   "outputs": [
    {
     "ename": "NotImplementedError",
     "evalue": "Counter.fromkeys() is undefined.  Use Counter(iterable) instead.",
     "output_type": "error",
     "traceback": [
      "\u001b[1;31m---------------------------------------------------------------------------\u001b[0m",
      "\u001b[1;31mNotImplementedError\u001b[0m                       Traceback (most recent call last)",
      "\u001b[1;32m<ipython-input-17-58abbf4b1ec9>\u001b[0m in \u001b[0;36m<module>\u001b[1;34m()\u001b[0m\n\u001b[1;32m----> 1\u001b[1;33m \u001b[0mcollections\u001b[0m\u001b[1;33m.\u001b[0m\u001b[0mCounter\u001b[0m\u001b[1;33m.\u001b[0m\u001b[0mfromkeys\u001b[0m\u001b[1;33m(\u001b[0m\u001b[1;34m'abracadabra'\u001b[0m\u001b[1;33m)\u001b[0m\u001b[1;33m\u001b[0m\u001b[0m\n\u001b[0m",
      "\u001b[1;32mD:\\Anaconda3\\lib\\collections\\__init__.py\u001b[0m in \u001b[0;36mfromkeys\u001b[1;34m(cls, iterable, v)\u001b[0m\n\u001b[0;32m    613\u001b[0m         \u001b[1;31m# means that no element can have a count greater than one.\u001b[0m\u001b[1;33m\u001b[0m\u001b[1;33m\u001b[0m\u001b[0m\n\u001b[0;32m    614\u001b[0m         raise NotImplementedError(\n\u001b[1;32m--> 615\u001b[1;33m             'Counter.fromkeys() is undefined.  Use Counter(iterable) instead.')\n\u001b[0m\u001b[0;32m    616\u001b[0m \u001b[1;33m\u001b[0m\u001b[0m\n\u001b[0;32m    617\u001b[0m     \u001b[1;32mdef\u001b[0m \u001b[0mupdate\u001b[0m\u001b[1;33m(\u001b[0m\u001b[1;33m*\u001b[0m\u001b[0margs\u001b[0m\u001b[1;33m,\u001b[0m \u001b[1;33m**\u001b[0m\u001b[0mkwds\u001b[0m\u001b[1;33m)\u001b[0m\u001b[1;33m:\u001b[0m\u001b[1;33m\u001b[0m\u001b[0m\n",
      "\u001b[1;31mNotImplementedError\u001b[0m: Counter.fromkeys() is undefined.  Use Counter(iterable) instead."
     ]
    }
   ],
   "source": [
    "collections.Counter.fromkeys('abracadabra')"
   ]
  },
  {
   "cell_type": "code",
   "execution_count": 18,
   "metadata": {},
   "outputs": [
    {
     "data": {
      "text/plain": [
       "Counter({'a': 5, 'b': 2, 'r': 2, 'c': 1, 'd': 1})"
      ]
     },
     "execution_count": 18,
     "metadata": {},
     "output_type": "execute_result"
    }
   ],
   "source": [
    "collections.Counter('abracadabra')"
   ]
  },
  {
   "cell_type": "markdown",
   "metadata": {},
   "source": [
    "We've already mentioned `Counter`s *are* `dict`s, where the values are frequencies (aka counts), defaulted to zero. This alone is highly useful and entirely unsurprising. \n",
    "\n",
    "Counters are also like `set`s with repeated elements. In C++, they go by the name of [multiset](https://en.cppreference.com/w/cpp/container/multiset). \n",
    "\n",
    "Like sets, they support union, intersection and difference -- via overloads of the bitwise operators: `|`, `&`, `-`. Operator `<` etc can be used to check for subset operations.\n",
    "\n",
    "**Note**: read the small print before use -- in particular for the union operation. If you're combining `Counter`s, addition is probably what you want."
   ]
  },
  {
   "cell_type": "code",
   "execution_count": 25,
   "metadata": {},
   "outputs": [
    {
     "data": {
      "text/plain": [
       "Counter({'apples': 4, 'bananas': 5, 'grapes': 25})"
      ]
     },
     "execution_count": 25,
     "metadata": {},
     "output_type": "execute_result"
    }
   ],
   "source": [
    "my_fruit   = collections.Counter({\"apples\": 3, \"bananas\": 5, \"grapes\": 25})\n",
    "your_fruit = collections.Counter({\"apples\": 4, \"bananas\": 3, \"grapes\": 15})\n",
    "my_fruit | your_fruit # Fruit, unite! 🍏🍌🍇"
   ]
  },
  {
   "cell_type": "code",
   "execution_count": 26,
   "metadata": {},
   "outputs": [
    {
     "data": {
      "text/plain": [
       "Counter({'bananas': 2, 'grapes': 10})"
      ]
     },
     "execution_count": 26,
     "metadata": {},
     "output_type": "execute_result"
    }
   ],
   "source": [
    "my_fruit - your_fruit"
   ]
  },
  {
   "cell_type": "markdown",
   "metadata": {},
   "source": [
    "Counters also resemble numbers. They can be added and subtracted. Unary `+` and `-` are supported. Note that although negative values are allowed in Counters, you can't put them in there using subtraction. [Read the documentation](https://docs.python.org/3/library/collections.html#collections.Counter) to find out more about what it means for values to be less than or equal to `0`."
   ]
  },
  {
   "cell_type": "markdown",
   "metadata": {},
   "source": [
    "## Counters to represent Prime Factorisation\n",
    "\n",
    "We can represent a natural number as a product of its prime factors. A Counter would be one way to do this."
   ]
  },
  {
   "cell_type": "code",
   "execution_count": 32,
   "metadata": {},
   "outputs": [
    {
     "data": {
      "text/plain": [
       "Counter({3: 1, 673: 1})"
      ]
     },
     "execution_count": 32,
     "metadata": {},
     "output_type": "execute_result"
    }
   ],
   "source": [
    "def primes():\n",
    "    'Generate the prime numbers in increasing order'\n",
    "    # http://code.activestate.com/recipes/117119/\n",
    "    q = 2\n",
    "    D = {}\n",
    "    while True:\n",
    "        if q not in D:\n",
    "            yield q\n",
    "            D[q * q] = [q]\n",
    "        else:\n",
    "            for p in D[q]:\n",
    "                D.setdefault(p + q, []).append(p)\n",
    "            del D[q]\n",
    "        q += 1\n",
    "\n",
    "def prime_factorisation(N):\n",
    "    factored = collections.Counter()\n",
    "    for p in primes():\n",
    "        while N % p == 0:\n",
    "            factored[p] += 1\n",
    "            N //= p\n",
    "        if N == 1:\n",
    "            return factored\n",
    "        \n",
    "prime_factorisation(2019)     "
   ]
  },
  {
   "cell_type": "markdown",
   "metadata": {},
   "source": [
    "Using this representation, union and intersection correspond to LCM and GCD."
   ]
  },
  {
   "cell_type": "code",
   "execution_count": 33,
   "metadata": {},
   "outputs": [],
   "source": [
    "this, prev = prime_factorisation(123456789), prime_factorisation(987654321) "
   ]
  },
  {
   "cell_type": "code",
   "execution_count": 34,
   "metadata": {},
   "outputs": [
    {
     "data": {
      "text/plain": [
       "Counter({3: 2, 3607: 1, 3803: 1, 17: 2, 379721: 1})"
      ]
     },
     "execution_count": 34,
     "metadata": {},
     "output_type": "execute_result"
    }
   ],
   "source": [
    "this | prev"
   ]
  },
  {
   "cell_type": "code",
   "execution_count": 35,
   "metadata": {},
   "outputs": [
    {
     "data": {
      "text/plain": [
       "Counter({3: 2})"
      ]
     },
     "execution_count": 35,
     "metadata": {},
     "output_type": "execute_result"
    }
   ],
   "source": [
    "this & prev"
   ]
  },
  {
   "cell_type": "markdown",
   "metadata": {},
   "source": [
    "## Counters at Christmas\n",
    "\n",
    "Last December [I had a go](https://github.com/wordaligned/advent-of-code-2018/blob/master/solutions.ipynb) at the [Advent of Code](https://adventofcode.com/2018), a series of 25 Christmas themed puzzles made available one-per-day as a countdown to Christmas.\n",
    "\n",
    "Obviously, I ended up leaning on the built in containers: dicts, lists, tuples, sets.\n",
    "\n",
    "I also imported `collections`, and, remarkably, used no fewer than 12 `collections.Counter`s. That's every other day, on average -- and I haven't completed all the puzzles yet!\n",
    "\n",
    "<a href=\"https://github.com/wordaligned/advent-of-code-2018/blob/master/solutions.ipynb\"><img src=\"images/advent-of-code.png\"/></a>\n"
   ]
  },
  {
   "cell_type": "code",
   "execution_count": null,
   "metadata": {},
   "outputs": [],
   "source": []
  }
 ],
 "metadata": {
  "kernelspec": {
   "display_name": "Python 3",
   "language": "python",
   "name": "python3"
  },
  "language_info": {
   "codemirror_mode": {
    "name": "ipython",
    "version": 3
   },
   "file_extension": ".py",
   "mimetype": "text/x-python",
   "name": "python",
   "nbconvert_exporter": "python",
   "pygments_lexer": "ipython3",
   "version": "3.7.0"
  }
 },
 "nbformat": 4,
 "nbformat_minor": 2
}
